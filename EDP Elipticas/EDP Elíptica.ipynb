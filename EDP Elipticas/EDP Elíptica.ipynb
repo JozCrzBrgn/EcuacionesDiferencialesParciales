{
 "cells": [
  {
   "cell_type": "markdown",
   "metadata": {},
   "source": [
    "# *ECUACIÓN DIFERENCIAL PARCIAL ELÍPTICA*"
   ]
  },
  {
   "cell_type": "markdown",
   "metadata": {},
   "source": [
    "## A) DEMOSTRACIÓN GEOMÉTRICA."
   ]
  },
  {
   "cell_type": "markdown",
   "metadata": {},
   "source": [
    "### Ecuación de Laplace."
   ]
  },
  {
   "cell_type": "markdown",
   "metadata": {},
   "source": [
    "![EDP1](https://user-images.githubusercontent.com/47722525/78750945-e4ad9f00-7936-11ea-9651-2be84cee8fd5.png)"
   ]
  },
  {
   "cell_type": "markdown",
   "metadata": {},
   "source": [
    "![EDP2](https://user-images.githubusercontent.com/47722525/78750995-fc852300-7936-11ea-9c2e-a2c70d6a3d90.png)"
   ]
  },
  {
   "cell_type": "markdown",
   "metadata": {},
   "source": [
    "## B) FÓRMULA MATEMÁTICA."
   ]
  },
  {
   "cell_type": "markdown",
   "metadata": {},
   "source": [
    "![EDP3](https://user-images.githubusercontent.com/47722525/78751105-36562980-7937-11ea-9dc2-b37be02e7cfd.png)"
   ]
  },
  {
   "cell_type": "markdown",
   "metadata": {},
   "source": [
    "## C) PROGRAMACIÓN DE LA EDP ELÍPTICA."
   ]
  },
  {
   "cell_type": "code",
   "execution_count": 1,
   "metadata": {},
   "outputs": [],
   "source": [
    "import numpy as np\n",
    "def EDP_Eliptica(M):\n",
    "    '''\n",
    "    Devuelve la matriz evaluada en diferencias finitas centrales.\n",
    "\n",
    "    Inputs:\n",
    "    M  -- Matriz con condiciones de frontera.\n",
    "    \n",
    "    Output:\n",
    "    Matriz Solución.\n",
    "\n",
    "    Programó:\n",
    "    Ing. Josue Emmanuel Cruz Barragan\n",
    "    '''\n",
    "    row = np.size(M,0)-1\n",
    "    err=100\n",
    "    e0 = 0\n",
    "    tol = 0.0001\n",
    "    while err >= tol:\n",
    "        for i in range(1,row):\n",
    "            for j in range(1,row):\n",
    "                Tu = M[i][j+1]\n",
    "                Td = M[i][j-1]\n",
    "                Tl = M[i-1][j]\n",
    "                Tr = M[i+1][j]\n",
    "                Tn = round((Tu+Td+Tr+Tl)/4,2)\n",
    "                M[i][j]=Tn\n",
    "        e1 = np.linalg.norm(M)\n",
    "        err = abs(e1-e0)/e1\n",
    "        e0=e1\n",
    "    return M"
   ]
  },
  {
   "cell_type": "markdown",
   "metadata": {},
   "source": [
    "## D) APLICACIÓN DE EDP´S ELÍPTICAS."
   ]
  },
  {
   "cell_type": "markdown",
   "metadata": {},
   "source": [
    "### EJEMPLO 1.- TEMPERATURA DE UNA PLACA CALIENTE CON CONDICIONES DE FRONTERA FIJAS."
   ]
  },
  {
   "cell_type": "markdown",
   "metadata": {},
   "source": [
    "### _Calcule la temperatura de la placa caliente en los puntos que se muetran en la figura:_"
   ]
  },
  {
   "cell_type": "markdown",
   "metadata": {},
   "source": [
    "![PlacaCalienteEjercicio](https://user-images.githubusercontent.com/47722525/78751272-7cab8880-7937-11ea-9a22-f1530fd5a7fb.png)"
   ]
  },
  {
   "cell_type": "markdown",
   "metadata": {},
   "source": [
    "### SOLUCIÓN."
   ]
  },
  {
   "cell_type": "markdown",
   "metadata": {},
   "source": [
    "### a) Datos:"
   ]
  },
  {
   "cell_type": "code",
   "execution_count": 2,
   "metadata": {},
   "outputs": [],
   "source": [
    "# Importamos la libreria.\n",
    "import numpy as np\n",
    "# Definimos las condiciones de frontera.\n",
    "Tup = 150.0\n",
    "Tdwn = 10.0\n",
    "Tlft = 85.0\n",
    "Trgt = 25.0"
   ]
  },
  {
   "cell_type": "markdown",
   "metadata": {},
   "source": [
    "#### Ensamblamos la matriz de la Placa"
   ]
  },
  {
   "cell_type": "code",
   "execution_count": 8,
   "metadata": {},
   "outputs": [
    {
     "name": "stdout",
     "output_type": "stream",
     "text": [
      "Placa dicretizada:\n",
      "\n",
      "[[150. 150. 150. 150. 150.]\n",
      " [ 85.   0.   0.   0.  25.]\n",
      " [ 85.   0.   0.   0.  25.]\n",
      " [ 85.   0.   0.   0.  25.]\n",
      " [ 85.  10.  10.  10.  25.]]\n"
     ]
    }
   ],
   "source": [
    "M = np.array([[Tup,Tup,Tup,Tup,Tup],[Tlft,0,0,0,Trgt],[Tlft,0,0,0,Trgt],[Tlft,0,0,0,Trgt],[Tlft,Tdwn,Tdwn,Tdwn,Trgt]])\n",
    "print('Placa dicretizada:\\n')\n",
    "print(M)"
   ]
  },
  {
   "cell_type": "markdown",
   "metadata": {},
   "source": [
    "### b) Resultados:"
   ]
  },
  {
   "cell_type": "code",
   "execution_count": 9,
   "metadata": {},
   "outputs": [
    {
     "name": "stdout",
     "output_type": "stream",
     "text": [
      "Placa solucionada:\n",
      "\n",
      "[[150.   150.   150.   150.   150.  ]\n",
      " [ 85.   103.19 100.6   81.77  25.  ]\n",
      " [ 85.    77.21  67.47  51.5   25.  ]\n",
      " [ 85.    53.2   40.61  31.78  25.  ]\n",
      " [ 85.    10.    10.    10.    25.  ]]\n"
     ]
    }
   ],
   "source": [
    "Placa_solucion = EDP_Eliptica(M)\n",
    "print('Placa solucionada:\\n')\n",
    "print(Placa_solucion)"
   ]
  },
  {
   "cell_type": "markdown",
   "metadata": {},
   "source": [
    "### c) Gráfica de colores en función de la temperatura:"
   ]
  },
  {
   "cell_type": "code",
   "execution_count": 10,
   "metadata": {},
   "outputs": [
    {
     "data": {
      "image/png": "[encoded data removed]",
      "text/plain": [
       "<Figure size 432x288 with 1 Axes>"
      ]
     },
     "metadata": {
      "needs_background": "light"
     },
     "output_type": "display_data"
    }
   ],
   "source": [
    "import matplotlib.pyplot as plt\n",
    "\n",
    "row = np.size(Placa_solucion,0)\n",
    "\n",
    "fig, ax = plt.subplots()\n",
    "\n",
    "min_val, max_val = np.min(M), np.max(M)\n",
    "\n",
    "intersection_matrix = Placa_solucion\n",
    "\n",
    "ax.matshow(intersection_matrix, cmap=plt.cm.Reds)\n",
    "\n",
    "for i in range(row):\n",
    "    for j in range(row):\n",
    "        c = intersection_matrix[j,i]\n",
    "        ax.text(i, j, str(c), va='center', ha='center')"
   ]
  },
  {
   "cell_type": "markdown",
   "metadata": {},
   "source": [
    "### EJEMPLO 2.- TEMPERATURA DE UNA PLACA CALIENTE CON UN MAYOR NÚMERO DE INTERVALOS."
   ]
  },
  {
   "cell_type": "markdown",
   "metadata": {},
   "source": [
    "### _Calcule la temperatura de la placa caliente aumentando el número de puntos que se mostrarón en la figura pasada:_"
   ]
  },
  {
   "cell_type": "markdown",
   "metadata": {},
   "source": [
    "### SOLUCIÓN."
   ]
  },
  {
   "cell_type": "markdown",
   "metadata": {},
   "source": [
    "#### Primero definimos una función que nos permita expandir la placa al número de intervalos iguales que queramos:"
   ]
  },
  {
   "cell_type": "code",
   "execution_count": 11,
   "metadata": {},
   "outputs": [],
   "source": [
    "def MatrizAmpliada(n_int,Tup,Tdwn,Tlft,Trgt):\n",
    "    '''\n",
    "    Devuelve la matriz ampliada a \"n_int\" intervalos con las condiciones de frontera que establece el problema.\n",
    "\n",
    "    Inputs:\n",
    "    n_int -- Número de divisiones en la placa.\n",
    "    Tup   -- Temperatura superior de la placa. \n",
    "    Tdwn  -- Temperatura inferior de la placa.\n",
    "    Tlft  -- Temperatura izquierda de la placa.\n",
    "    Trgt  -- Temperatura derecha de la placa.\n",
    "    \n",
    "    Output:\n",
    "    Matriz Ampliada.\n",
    "\n",
    "    Programó:\n",
    "    Ing. Josue Emmanuel Cruz Barragan\n",
    "    '''\n",
    "    M = np.zeros((n_int,n_int))\n",
    "    M[0][:]=Tup\n",
    "    M[-1][:]=Tdwn\n",
    "    M=np.transpose(M)\n",
    "    M[0][:]=Tlft\n",
    "    M[-1][:]=Trgt\n",
    "    M=np.transpose(M)\n",
    "    return M"
   ]
  },
  {
   "cell_type": "markdown",
   "metadata": {},
   "source": [
    "### a) Datos:"
   ]
  },
  {
   "cell_type": "code",
   "execution_count": 12,
   "metadata": {},
   "outputs": [],
   "source": [
    "# Definimos las condiciones de frontera.\n",
    "Tup = 150.0\n",
    "Tdwn = 10.0\n",
    "Tlft = 85.0\n",
    "Trgt = 25.0\n",
    "\n",
    "# Se define el número de intervalos a dividir la placa.\n",
    "n_int = 50"
   ]
  },
  {
   "cell_type": "markdown",
   "metadata": {},
   "source": [
    "#### Ensamblamos la matriz de la Placa"
   ]
  },
  {
   "cell_type": "code",
   "execution_count": 13,
   "metadata": {},
   "outputs": [
    {
     "name": "stdout",
     "output_type": "stream",
     "text": [
      "Placa dicretizada:\n",
      "\n",
      "[[ 85. 150. 150. ... 150. 150.  25.]\n",
      " [ 85.   0.   0. ...   0.   0.  25.]\n",
      " [ 85.   0.   0. ...   0.   0.  25.]\n",
      " ...\n",
      " [ 85.   0.   0. ...   0.   0.  25.]\n",
      " [ 85.   0.   0. ...   0.   0.  25.]\n",
      " [ 85.  10.  10. ...  10.  10.  25.]]\n"
     ]
    }
   ],
   "source": [
    "M = MatrizAmpliada(n_int,Tup,Tdwn,Tlft,Trgt)\n",
    "print('Placa dicretizada:\\n')\n",
    "print(M)"
   ]
  },
  {
   "cell_type": "markdown",
   "metadata": {},
   "source": [
    "### b) Resultados:"
   ]
  },
  {
   "cell_type": "code",
   "execution_count": 14,
   "metadata": {},
   "outputs": [
    {
     "name": "stdout",
     "output_type": "stream",
     "text": [
      "Placa solucionada:\n",
      "\n",
      "[[ 85.   150.   150.   ... 150.   150.    25.  ]\n",
      " [ 85.   117.38 130.11 ... 112.08  87.44  25.  ]\n",
      " [ 85.   104.42 117.03 ...  87.25  62.67  25.  ]\n",
      " ...\n",
      " [ 85.    62.34  47.54 ...  17.76  20.6   25.  ]\n",
      " [ 85.    47.51  32.7  ...  14.66  17.56  25.  ]\n",
      " [ 85.    10.    10.   ...  10.    10.    25.  ]]\n"
     ]
    }
   ],
   "source": [
    "Placa_solucion = EDP_Eliptica(M)\n",
    "print('Placa solucionada:\\n')\n",
    "print(Placa_solucion)"
   ]
  },
  {
   "cell_type": "markdown",
   "metadata": {},
   "source": [
    "### c) Gráfica de colores en función de la temperatura:"
   ]
  },
  {
   "cell_type": "code",
   "execution_count": 15,
   "metadata": {},
   "outputs": [
    {
     "data": {
      "image/png": "[encoded data removed]",
      "text/plain": [
       "<Figure size 360x360 with 1 Axes>"
      ]
     },
     "metadata": {
      "needs_background": "light"
     },
     "output_type": "display_data"
    }
   ],
   "source": [
    "import matplotlib.pyplot as plt\n",
    "tamano = 5\n",
    "fig, ax = plt.subplots(figsize=(tamano,tamano))\n",
    "min_val, max_val = np.min(M), np.max(M)\n",
    "intersection_matrix = Placa_solucion\n",
    "ax.matshow(intersection_matrix, cmap=plt.cm.Reds)\n",
    "plt.show()"
   ]
  }
 ],
 "metadata": {
  "kernelspec": {
   "display_name": "Python 3",
   "language": "python",
   "name": "python3"
  },
  "language_info": {
   "codemirror_mode": {
    "name": "ipython",
    "version": 3
   },
   "file_extension": ".py",
   "mimetype": "text/x-python",
   "name": "python",
   "nbconvert_exporter": "python",
   "pygments_lexer": "ipython3",
   "version": "3.7.0"
  }
 },
 "nbformat": 4,
 "nbformat_minor": 2
}
